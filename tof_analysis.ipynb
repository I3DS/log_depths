{
 "cells": [
  {
   "cell_type": "code",
   "execution_count": 38,
   "metadata": {},
   "outputs": [],
   "source": [
    "import numpy as np\n",
    "import matplotlib.pyplot as plt\n",
    "%matplotlib inline"
   ]
  },
  {
   "cell_type": "code",
   "execution_count": 129,
   "metadata": {},
   "outputs": [],
   "source": [
    "tof_measurements_raw = []\n",
    "invalid_count = 0\n",
    "valid_count = 0\n",
    "with open('exp10_800.log') as f:\n",
    "    for line in f:\n",
    "        if float(line) == 0 or float(line) == -1:\n",
    "            invalid_count += 1\n",
    "            continue\n",
    "        if not line[0] == '#':\n",
    "            tof_measurements_raw.append(float(line))\n",
    "            valid_count += 1\n",
    "tof_data = np.array(tof_measurements_raw)"
   ]
  },
  {
   "cell_type": "code",
   "execution_count": 130,
   "metadata": {},
   "outputs": [
    {
     "data": {
      "image/png": "[encoded data removed]",
      "text/plain": [
       "<Figure size 432x288 with 1 Axes>"
      ]
     },
     "metadata": {
      "needs_background": "light"
     },
     "output_type": "display_data"
    },
    {
     "name": "stdout",
     "output_type": "stream",
     "text": [
      "TOF measurement mean:               3.544\n",
      "TOF measurement std. dev.:          0.157\n",
      "\n",
      "invalid count: 6 (filtered out from histogram)\n",
      "valid count: 995\n",
      "Percentage of invalid data: 0.6%\n"
     ]
    }
   ],
   "source": [
    "mean = tof_data.mean()\n",
    "std_dev = tof_data.std()\n",
    "plt.hist(tof_data, bins=100, linewidth=1)\n",
    "plt.axvline(mean, color='r', linewidth=1)\n",
    "plt.axvline(mean+std_dev, color='k', linestyle='dashed', linewidth=1)\n",
    "plt.axvline(mean-std_dev, color='k', linestyle='dashed', linewidth=1)\n",
    "plt.show()\n",
    "\n",
    "#print(\"distance (setup):\".ljust(35), \"0.35m\")\n",
    "print(\"TOF measurement mean:\".ljust(35), f\"{mean:.3f}\")\n",
    "print(\"TOF measurement std. dev.:\".ljust(35), f\"{std_dev:.3f}\\n\")\n",
    "print(f\"invalid count: {invalid_count} (filtered out from histogram)\")\n",
    "print(f\"valid count: {valid_count}\")\n",
    "percentage_invalid = 100*invalid_count/(valid_count+invalid_count)\n",
    "print(f\"Percentage of invalid data: {percentage_invalid:.1f}%\")"
   ]
  },
  {
   "cell_type": "code",
   "execution_count": 131,
   "metadata": {},
   "outputs": [],
   "source": [
    "# NOTES fra 16/6\n",
    "# Jeg gjorde alle experiment en gang til nede i treningsrommet i mørker. Var då fri fra lys, \n",
    "# speilende objekter, nære vegger, samt motion capture (som kunne vært forstyrrende hvis de var på/standby).\n",
    "# Siden jeg ikke hadde laget en mappe for mine logs (/logs/eric/*logs*.log), så fungerte ikke loggingen. Sjekket \n",
    "# ikke dette før jeg kom upp på kontoret!\n",
    "# Men, fra det jeg husker fra målingen så var det mer nøyaktige resultat nå i sammenligning med fredriks målinger.\n",
    "# for eksempel: eksperiment 8 og 10 gav 3m og 4m, respektive, mens i fredriks resultat så var det større avvik.\n",
    "# Får ta å gjøre om eksperimentene en dag."
   ]
  },
  {
   "cell_type": "code",
   "execution_count": null,
   "metadata": {},
   "outputs": [],
   "source": []
  }
 ],
 "metadata": {
  "interpreter": {
   "hash": "a60383daef93be0dc1678c51e95f80c0a4663b959edab2954feb6e158a39e5a7"
  },
  "kernelspec": {
   "display_name": "Python 3 (ipykernel)",
   "language": "python",
   "name": "python3"
  },
  "language_info": {
   "codemirror_mode": {
    "name": "ipython",
    "version": 3
   },
   "file_extension": ".py",
   "mimetype": "text/x-python",
   "name": "python",
   "nbconvert_exporter": "python",
   "pygments_lexer": "ipython3",
   "version": "3.8.10"
  }
 },
 "nbformat": 4,
 "nbformat_minor": 2
}
